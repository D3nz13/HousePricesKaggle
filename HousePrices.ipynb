{
    "cells": [
        {
            "cell_type": "markdown",
            "source": [
                "# Importing libraries"
            ],
            "metadata": {}
        },
        {
            "cell_type": "code",
            "execution_count": 1,
            "source": [
                "import numpy as np\r\n",
                "import pandas as pd\r\n",
                "import matplotlib.pyplot as plt\r\n",
                "import seaborn as sns"
            ],
            "outputs": [],
            "metadata": {}
        },
        {
            "cell_type": "markdown",
            "source": [
                "# Loading the dataset"
            ],
            "metadata": {}
        },
        {
            "cell_type": "code",
            "execution_count": 2,
            "source": [
                "df = pd.read_csv('train.csv')"
            ],
            "outputs": [],
            "metadata": {}
        },
        {
            "cell_type": "markdown",
            "source": [
                "# Quick view at the data"
            ],
            "metadata": {}
        },
        {
            "cell_type": "code",
            "execution_count": 4,
            "source": [
                "df.shape"
            ],
            "outputs": [
                {
                    "output_type": "execute_result",
                    "data": {
                        "text/plain": [
                            "(1460, 81)"
                        ]
                    },
                    "metadata": {},
                    "execution_count": 4
                }
            ],
            "metadata": {}
        },
        {
            "cell_type": "code",
            "execution_count": 3,
            "source": [
                "df.head()"
            ],
            "outputs": [
                {
                    "output_type": "execute_result",
                    "data": {
                        "text/plain": [
                            "   Id  MSSubClass MSZoning  LotFrontage  LotArea Street Alley LotShape  \\\n",
                            "0   1          60       RL         65.0     8450   Pave   NaN      Reg   \n",
                            "1   2          20       RL         80.0     9600   Pave   NaN      Reg   \n",
                            "2   3          60       RL         68.0    11250   Pave   NaN      IR1   \n",
                            "3   4          70       RL         60.0     9550   Pave   NaN      IR1   \n",
                            "4   5          60       RL         84.0    14260   Pave   NaN      IR1   \n",
                            "\n",
                            "  LandContour Utilities  ... PoolArea PoolQC Fence MiscFeature MiscVal MoSold  \\\n",
                            "0         Lvl    AllPub  ...        0    NaN   NaN         NaN       0      2   \n",
                            "1         Lvl    AllPub  ...        0    NaN   NaN         NaN       0      5   \n",
                            "2         Lvl    AllPub  ...        0    NaN   NaN         NaN       0      9   \n",
                            "3         Lvl    AllPub  ...        0    NaN   NaN         NaN       0      2   \n",
                            "4         Lvl    AllPub  ...        0    NaN   NaN         NaN       0     12   \n",
                            "\n",
                            "  YrSold  SaleType  SaleCondition  SalePrice  \n",
                            "0   2008        WD         Normal     208500  \n",
                            "1   2007        WD         Normal     181500  \n",
                            "2   2008        WD         Normal     223500  \n",
                            "3   2006        WD        Abnorml     140000  \n",
                            "4   2008        WD         Normal     250000  \n",
                            "\n",
                            "[5 rows x 81 columns]"
                        ],
                        "text/html": [
                            "<div>\n",
                            "<style scoped>\n",
                            "    .dataframe tbody tr th:only-of-type {\n",
                            "        vertical-align: middle;\n",
                            "    }\n",
                            "\n",
                            "    .dataframe tbody tr th {\n",
                            "        vertical-align: top;\n",
                            "    }\n",
                            "\n",
                            "    .dataframe thead th {\n",
                            "        text-align: right;\n",
                            "    }\n",
                            "</style>\n",
                            "<table border=\"1\" class=\"dataframe\">\n",
                            "  <thead>\n",
                            "    <tr style=\"text-align: right;\">\n",
                            "      <th></th>\n",
                            "      <th>Id</th>\n",
                            "      <th>MSSubClass</th>\n",
                            "      <th>MSZoning</th>\n",
                            "      <th>LotFrontage</th>\n",
                            "      <th>LotArea</th>\n",
                            "      <th>Street</th>\n",
                            "      <th>Alley</th>\n",
                            "      <th>LotShape</th>\n",
                            "      <th>LandContour</th>\n",
                            "      <th>Utilities</th>\n",
                            "      <th>...</th>\n",
                            "      <th>PoolArea</th>\n",
                            "      <th>PoolQC</th>\n",
                            "      <th>Fence</th>\n",
                            "      <th>MiscFeature</th>\n",
                            "      <th>MiscVal</th>\n",
                            "      <th>MoSold</th>\n",
                            "      <th>YrSold</th>\n",
                            "      <th>SaleType</th>\n",
                            "      <th>SaleCondition</th>\n",
                            "      <th>SalePrice</th>\n",
                            "    </tr>\n",
                            "  </thead>\n",
                            "  <tbody>\n",
                            "    <tr>\n",
                            "      <th>0</th>\n",
                            "      <td>1</td>\n",
                            "      <td>60</td>\n",
                            "      <td>RL</td>\n",
                            "      <td>65.0</td>\n",
                            "      <td>8450</td>\n",
                            "      <td>Pave</td>\n",
                            "      <td>NaN</td>\n",
                            "      <td>Reg</td>\n",
                            "      <td>Lvl</td>\n",
                            "      <td>AllPub</td>\n",
                            "      <td>...</td>\n",
                            "      <td>0</td>\n",
                            "      <td>NaN</td>\n",
                            "      <td>NaN</td>\n",
                            "      <td>NaN</td>\n",
                            "      <td>0</td>\n",
                            "      <td>2</td>\n",
                            "      <td>2008</td>\n",
                            "      <td>WD</td>\n",
                            "      <td>Normal</td>\n",
                            "      <td>208500</td>\n",
                            "    </tr>\n",
                            "    <tr>\n",
                            "      <th>1</th>\n",
                            "      <td>2</td>\n",
                            "      <td>20</td>\n",
                            "      <td>RL</td>\n",
                            "      <td>80.0</td>\n",
                            "      <td>9600</td>\n",
                            "      <td>Pave</td>\n",
                            "      <td>NaN</td>\n",
                            "      <td>Reg</td>\n",
                            "      <td>Lvl</td>\n",
                            "      <td>AllPub</td>\n",
                            "      <td>...</td>\n",
                            "      <td>0</td>\n",
                            "      <td>NaN</td>\n",
                            "      <td>NaN</td>\n",
                            "      <td>NaN</td>\n",
                            "      <td>0</td>\n",
                            "      <td>5</td>\n",
                            "      <td>2007</td>\n",
                            "      <td>WD</td>\n",
                            "      <td>Normal</td>\n",
                            "      <td>181500</td>\n",
                            "    </tr>\n",
                            "    <tr>\n",
                            "      <th>2</th>\n",
                            "      <td>3</td>\n",
                            "      <td>60</td>\n",
                            "      <td>RL</td>\n",
                            "      <td>68.0</td>\n",
                            "      <td>11250</td>\n",
                            "      <td>Pave</td>\n",
                            "      <td>NaN</td>\n",
                            "      <td>IR1</td>\n",
                            "      <td>Lvl</td>\n",
                            "      <td>AllPub</td>\n",
                            "      <td>...</td>\n",
                            "      <td>0</td>\n",
                            "      <td>NaN</td>\n",
                            "      <td>NaN</td>\n",
                            "      <td>NaN</td>\n",
                            "      <td>0</td>\n",
                            "      <td>9</td>\n",
                            "      <td>2008</td>\n",
                            "      <td>WD</td>\n",
                            "      <td>Normal</td>\n",
                            "      <td>223500</td>\n",
                            "    </tr>\n",
                            "    <tr>\n",
                            "      <th>3</th>\n",
                            "      <td>4</td>\n",
                            "      <td>70</td>\n",
                            "      <td>RL</td>\n",
                            "      <td>60.0</td>\n",
                            "      <td>9550</td>\n",
                            "      <td>Pave</td>\n",
                            "      <td>NaN</td>\n",
                            "      <td>IR1</td>\n",
                            "      <td>Lvl</td>\n",
                            "      <td>AllPub</td>\n",
                            "      <td>...</td>\n",
                            "      <td>0</td>\n",
                            "      <td>NaN</td>\n",
                            "      <td>NaN</td>\n",
                            "      <td>NaN</td>\n",
                            "      <td>0</td>\n",
                            "      <td>2</td>\n",
                            "      <td>2006</td>\n",
                            "      <td>WD</td>\n",
                            "      <td>Abnorml</td>\n",
                            "      <td>140000</td>\n",
                            "    </tr>\n",
                            "    <tr>\n",
                            "      <th>4</th>\n",
                            "      <td>5</td>\n",
                            "      <td>60</td>\n",
                            "      <td>RL</td>\n",
                            "      <td>84.0</td>\n",
                            "      <td>14260</td>\n",
                            "      <td>Pave</td>\n",
                            "      <td>NaN</td>\n",
                            "      <td>IR1</td>\n",
                            "      <td>Lvl</td>\n",
                            "      <td>AllPub</td>\n",
                            "      <td>...</td>\n",
                            "      <td>0</td>\n",
                            "      <td>NaN</td>\n",
                            "      <td>NaN</td>\n",
                            "      <td>NaN</td>\n",
                            "      <td>0</td>\n",
                            "      <td>12</td>\n",
                            "      <td>2008</td>\n",
                            "      <td>WD</td>\n",
                            "      <td>Normal</td>\n",
                            "      <td>250000</td>\n",
                            "    </tr>\n",
                            "  </tbody>\n",
                            "</table>\n",
                            "<p>5 rows × 81 columns</p>\n",
                            "</div>"
                        ]
                    },
                    "metadata": {},
                    "execution_count": 3
                }
            ],
            "metadata": {}
        },
        {
            "cell_type": "markdown",
            "source": [
                "We can already see there are many missing values"
            ],
            "metadata": {}
        },
        {
            "cell_type": "code",
            "execution_count": 20,
            "source": [
                "df.isna().sum().sort_values(ascending=False).head(20)"
            ],
            "outputs": [
                {
                    "output_type": "execute_result",
                    "data": {
                        "text/plain": [
                            "PoolQC          1453\n",
                            "MiscFeature     1406\n",
                            "Alley           1369\n",
                            "Fence           1179\n",
                            "FireplaceQu      690\n",
                            "LotFrontage      259\n",
                            "GarageYrBlt       81\n",
                            "GarageCond        81\n",
                            "GarageType        81\n",
                            "GarageFinish      81\n",
                            "GarageQual        81\n",
                            "BsmtFinType2      38\n",
                            "BsmtExposure      38\n",
                            "BsmtQual          37\n",
                            "BsmtCond          37\n",
                            "BsmtFinType1      37\n",
                            "MasVnrArea         8\n",
                            "MasVnrType         8\n",
                            "Electrical         1\n",
                            "Id                 0\n",
                            "dtype: int64"
                        ]
                    },
                    "metadata": {},
                    "execution_count": 20
                }
            ],
            "metadata": {}
        },
        {
            "cell_type": "markdown",
            "source": [
                "There are a few features that have a lot of missing values (taking the number of records into consideration, for PoolQC there are only 7 non missing values out of 1460).  \r\n",
                "According to the description, this feature represents the pool quality and the missing value stands for \"No pool\". We can deduct the huge majority of houses doesn't have a pool, hence features regarding a pool will be useless (PoolArea for example will be mostly containing 0).  \r\n",
                "MiscFeature contains data of miscellaneous feature not covered in other categories. But again, the number of missing values is very high so this feature will not provide any useful information.  \r\n",
                "Features Alley and Fence also have a high number of missing values so they will be dropped later on."
            ],
            "metadata": {}
        },
        {
            "cell_type": "code",
            "execution_count": null,
            "source": [],
            "outputs": [],
            "metadata": {}
        }
    ],
    "metadata": {
        "orig_nbformat": 4,
        "language_info": {
            "name": "python",
            "version": "3.9.2",
            "mimetype": "text/x-python",
            "codemirror_mode": {
                "name": "ipython",
                "version": 3
            },
            "pygments_lexer": "ipython3",
            "nbconvert_exporter": "python",
            "file_extension": ".py"
        },
        "kernelspec": {
            "name": "python3",
            "display_name": "Python 3.9.2 64-bit"
        },
        "interpreter": {
            "hash": "e7569a15529fdc1b1c42469f30affc08eb6a35198f139c12d15ddfa133a45a66"
        }
    },
    "nbformat": 4,
    "nbformat_minor": 2
}